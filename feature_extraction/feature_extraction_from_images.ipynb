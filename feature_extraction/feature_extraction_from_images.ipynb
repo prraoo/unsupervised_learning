{
 "cells": [
  {
   "cell_type": "code",
   "execution_count": 1,
   "metadata": {},
   "outputs": [
    {
     "name": "stderr",
     "output_type": "stream",
     "text": [
      "/home/pramod/.local/lib/python3.5/site-packages/requests/__init__.py:80: RequestsDependencyWarning: urllib3 (1.23) or chardet (3.0.4) doesn't match a supported version!\n",
      "  RequestsDependencyWarning)\n"
     ]
    }
   ],
   "source": [
    "import os\n",
    "import numpy as np\n",
    "from PIL import Image\n",
    "import glob\n",
    "import pandas as pd\n",
    "\n",
    "import torch\n",
    "import torch.nn as nn\n",
    "from torchvision import transforms\n",
    "from torch.utils.data import DataLoader\n",
    "from torch.utils.data.dataset import Dataset\n",
    "from torch.autograd import Variable"
   ]
  },
  {
   "cell_type": "code",
   "execution_count": 2,
   "metadata": {},
   "outputs": [],
   "source": [
    "class DatasetProcessing(Dataset):\n",
    "    def __init__(self, file_list, transform=None):\n",
    "        self.img_filename = file_list\n",
    "        self.transform = transform        \n",
    "\n",
    "    def __getitem__(self, index):\n",
    "        img = Image.open(self.img_filename[index])\n",
    "        filename = self.img_filename[index]\n",
    "        img = img.convert('RGB')\n",
    "        if self.transform is not None:\n",
    "            img = self.transform(img)        \n",
    "        return img, filename\n",
    "    def __len__(self):\n",
    "        return len(self.img_filename)"
   ]
  },
  {
   "cell_type": "code",
   "execution_count": 139,
   "metadata": {},
   "outputs": [
    {
     "name": "stdout",
     "output_type": "stream",
     "text": [
      "22\n",
      "yes\n"
     ]
    }
   ],
   "source": [
    "# for testimgs\n",
    "#DATA_PATH = './cats_dogs/'\n",
    "DATA_PATH = './imgs/'\n",
    "\n",
    "use_gpu = True\n",
    "\n",
    "file_list = glob.glob(DATA_PATH+'*.jpg')\n",
    "\n",
    "print(len(file_list))\n",
    "file_list[0]\n",
    "\n",
    "import torchvision.models as models\n",
    "model = models.resnet101(pretrained=True)\n",
    "\n",
    "\"\"\"\n",
    "# remove last fully-connected layer -- for alexnet\n",
    "new_classifier = nn.Sequential(*list(model.classifier.children())[:-1])\n",
    "model.classifier = new_classifier\n",
    "\"\"\"\n",
    "\n",
    "# remove last fully-connected layer - for resnet like models \n",
    "modules=list(model.children())[:-1]\n",
    "model=nn.Sequential(*modules)\n",
    "\n",
    "#print(model)\n",
    "\n",
    "# for evaluation \n",
    "model.eval()\n",
    "\n",
    "if use_gpu:\n",
    "    print('yes')\n",
    "    model = model.cuda()\n",
    "\n",
    "batch_size = 32\n",
    "workers = 4\n"
   ]
  },
  {
   "cell_type": "code",
   "execution_count": 140,
   "metadata": {},
   "outputs": [
    {
     "name": "stdout",
     "output_type": "stream",
     "text": [
      "./imgs/img3.jpg\n",
      "img3.jpg\n"
     ]
    }
   ],
   "source": [
    "#file_list[0]\n",
    "\n",
    "a = file_list[0]\n",
    "print(a)\n",
    "print(a[len(DATA_PATH):])"
   ]
  },
  {
   "cell_type": "code",
   "execution_count": 141,
   "metadata": {},
   "outputs": [],
   "source": [
    "scaler = transforms.Resize((224, 224))\n",
    "normalize = transforms.Normalize(mean=[0.485, 0.456, 0.406],\n",
    "                                 std=[0.229, 0.224, 0.225])\n",
    "to_tensor = transforms.ToTensor()\n",
    "\n",
    "transformations = transforms.Compose([\n",
    "    transforms.Resize(256),\n",
    "    transforms.CenterCrop(224),\n",
    "    transforms.ToTensor(),\n",
    "    normalize])"
   ]
  },
  {
   "cell_type": "code",
   "execution_count": 142,
   "metadata": {},
   "outputs": [
    {
     "data": {
      "text/plain": [
       "22"
      ]
     },
     "execution_count": 142,
     "metadata": {},
     "output_type": "execute_result"
    }
   ],
   "source": [
    "dset_test = DatasetProcessing(file_list, transformations)\n",
    "\n",
    "test_loader = DataLoader(dset_test,\n",
    "                         batch_size=batch_size,\n",
    "                         shuffle=False,\n",
    "                         num_workers=4\n",
    "                        )\n",
    "\n",
    "dset_test.__len__()"
   ]
  },
  {
   "cell_type": "code",
   "execution_count": 143,
   "metadata": {
    "scrolled": true
   },
   "outputs": [
    {
     "name": "stdout",
     "output_type": "stream",
     "text": [
      "*********iter:0 *********\n"
     ]
    }
   ],
   "source": [
    "epochs = 1\n",
    "feature_df = pd.DataFrame()\n",
    "feature_dict = {}\n",
    "\n",
    "for epoch in range(epochs):\n",
    "    ### feature extraction phase        \n",
    "    for iter, testdata in enumerate(test_loader, 0):\n",
    "        print(\"*********iter:\" + str(iter) + ' *********')\n",
    "        test_inputs, test_file_name = testdata\n",
    "        \n",
    "        if use_gpu:\n",
    "            test_inputs = Variable(test_inputs.cuda())\n",
    "        else: test_inputs = Variable(test_inputs)\n",
    "            \n",
    "        test_outputs = model(test_inputs)\n",
    "        test_outputs = test_outputs.cpu().data.numpy()        \n",
    "        \n",
    "        # this is not required for the alexnet \n",
    "        # for resnet to squeeze the dimension from the avg pool layers\n",
    "        test_outputs = np.squeeze(test_outputs)\n",
    "        # sometimes due to the selection of a particular batch size \n",
    "        # the output becomes a 1d vector instead of bsize X dim 2d vector\n",
    "        if (len(test_outputs.shape) != 2):\n",
    "            test_outputs = np.reshape(test_outputs,(1, -1))\n",
    "        \n",
    "        for i in range(test_outputs.shape[0]):\n",
    "\n",
    "            # prepare the saving path\n",
    "            temp = test_file_name[i]\n",
    "            temp = temp[len(DATA_PATH):]\n",
    "            index = temp.find(\".jpg\")\n",
    "            temp = temp[:index]\n",
    "            feature_dict[str(temp)] = test_outputs[i,:]\n",
    "            feature_df = pd.DataFrame(feature_dict)\n",
    "            \n",
    "            \n",
    "            #save_file_name = SAVE_PATH + temp\n",
    "            #print(save_file_name)\n",
    "            \n",
    "            #np.savetxt(save_file_name, test_outputs[i,:])\n",
    "feature_df = feature_df.transpose()"
   ]
  },
  {
   "cell_type": "code",
   "execution_count": 145,
   "metadata": {},
   "outputs": [
    {
     "data": {
      "text/html": [
       "<div>\n",
       "<style scoped>\n",
       "    .dataframe tbody tr th:only-of-type {\n",
       "        vertical-align: middle;\n",
       "    }\n",
       "\n",
       "    .dataframe tbody tr th {\n",
       "        vertical-align: top;\n",
       "    }\n",
       "\n",
       "    .dataframe thead th {\n",
       "        text-align: right;\n",
       "    }\n",
       "</style>\n",
       "<table border=\"1\" class=\"dataframe\">\n",
       "  <thead>\n",
       "    <tr style=\"text-align: right;\">\n",
       "      <th></th>\n",
       "      <th>0</th>\n",
       "      <th>1</th>\n",
       "      <th>2</th>\n",
       "      <th>3</th>\n",
       "      <th>4</th>\n",
       "      <th>5</th>\n",
       "      <th>6</th>\n",
       "      <th>7</th>\n",
       "      <th>8</th>\n",
       "      <th>9</th>\n",
       "      <th>...</th>\n",
       "      <th>2038</th>\n",
       "      <th>2039</th>\n",
       "      <th>2040</th>\n",
       "      <th>2041</th>\n",
       "      <th>2042</th>\n",
       "      <th>2043</th>\n",
       "      <th>2044</th>\n",
       "      <th>2045</th>\n",
       "      <th>2046</th>\n",
       "      <th>2047</th>\n",
       "    </tr>\n",
       "  </thead>\n",
       "  <tbody>\n",
       "    <tr>\n",
       "      <th>img1</th>\n",
       "      <td>0.075019</td>\n",
       "      <td>0.377636</td>\n",
       "      <td>0.286328</td>\n",
       "      <td>0.150281</td>\n",
       "      <td>1.027439</td>\n",
       "      <td>1.492099</td>\n",
       "      <td>0.251387</td>\n",
       "      <td>1.048187</td>\n",
       "      <td>0.917360</td>\n",
       "      <td>0.147455</td>\n",
       "      <td>...</td>\n",
       "      <td>0.300168</td>\n",
       "      <td>0.390299</td>\n",
       "      <td>0.439247</td>\n",
       "      <td>0.007019</td>\n",
       "      <td>1.983532</td>\n",
       "      <td>0.404270</td>\n",
       "      <td>0.149851</td>\n",
       "      <td>0.169104</td>\n",
       "      <td>0.324171</td>\n",
       "      <td>0.479206</td>\n",
       "    </tr>\n",
       "    <tr>\n",
       "      <th>img2</th>\n",
       "      <td>0.119926</td>\n",
       "      <td>0.078213</td>\n",
       "      <td>0.924031</td>\n",
       "      <td>0.804706</td>\n",
       "      <td>1.053693</td>\n",
       "      <td>0.397415</td>\n",
       "      <td>0.592862</td>\n",
       "      <td>0.581773</td>\n",
       "      <td>2.219676</td>\n",
       "      <td>0.198823</td>\n",
       "      <td>...</td>\n",
       "      <td>0.471248</td>\n",
       "      <td>1.345471</td>\n",
       "      <td>0.174861</td>\n",
       "      <td>0.153973</td>\n",
       "      <td>0.050629</td>\n",
       "      <td>0.318552</td>\n",
       "      <td>1.741183</td>\n",
       "      <td>1.029128</td>\n",
       "      <td>0.126983</td>\n",
       "      <td>0.321812</td>\n",
       "    </tr>\n",
       "    <tr>\n",
       "      <th>img3</th>\n",
       "      <td>0.310494</td>\n",
       "      <td>0.491740</td>\n",
       "      <td>0.698567</td>\n",
       "      <td>0.068430</td>\n",
       "      <td>0.379037</td>\n",
       "      <td>0.305540</td>\n",
       "      <td>0.141801</td>\n",
       "      <td>0.080034</td>\n",
       "      <td>0.395707</td>\n",
       "      <td>0.038466</td>\n",
       "      <td>...</td>\n",
       "      <td>0.089840</td>\n",
       "      <td>0.276242</td>\n",
       "      <td>0.488761</td>\n",
       "      <td>0.940670</td>\n",
       "      <td>0.040950</td>\n",
       "      <td>0.350040</td>\n",
       "      <td>0.047583</td>\n",
       "      <td>0.270020</td>\n",
       "      <td>0.290705</td>\n",
       "      <td>0.123781</td>\n",
       "    </tr>\n",
       "    <tr>\n",
       "      <th>img4</th>\n",
       "      <td>1.068086</td>\n",
       "      <td>0.311717</td>\n",
       "      <td>0.184385</td>\n",
       "      <td>0.105212</td>\n",
       "      <td>0.296597</td>\n",
       "      <td>0.302899</td>\n",
       "      <td>0.226477</td>\n",
       "      <td>0.699843</td>\n",
       "      <td>1.045524</td>\n",
       "      <td>0.091345</td>\n",
       "      <td>...</td>\n",
       "      <td>0.410153</td>\n",
       "      <td>0.497746</td>\n",
       "      <td>0.372124</td>\n",
       "      <td>0.426840</td>\n",
       "      <td>0.248001</td>\n",
       "      <td>1.506437</td>\n",
       "      <td>0.026825</td>\n",
       "      <td>0.127176</td>\n",
       "      <td>0.218100</td>\n",
       "      <td>0.102669</td>\n",
       "    </tr>\n",
       "    <tr>\n",
       "      <th>messi</th>\n",
       "      <td>0.292575</td>\n",
       "      <td>0.038869</td>\n",
       "      <td>0.463703</td>\n",
       "      <td>1.148192</td>\n",
       "      <td>0.358206</td>\n",
       "      <td>1.220238</td>\n",
       "      <td>0.683077</td>\n",
       "      <td>1.257175</td>\n",
       "      <td>0.566717</td>\n",
       "      <td>0.122433</td>\n",
       "      <td>...</td>\n",
       "      <td>3.579520</td>\n",
       "      <td>0.078485</td>\n",
       "      <td>0.410738</td>\n",
       "      <td>0.271121</td>\n",
       "      <td>0.148141</td>\n",
       "      <td>0.055995</td>\n",
       "      <td>0.454379</td>\n",
       "      <td>0.661424</td>\n",
       "      <td>0.256392</td>\n",
       "      <td>0.143756</td>\n",
       "    </tr>\n",
       "    <tr>\n",
       "      <th>person</th>\n",
       "      <td>0.346181</td>\n",
       "      <td>0.107922</td>\n",
       "      <td>1.039151</td>\n",
       "      <td>0.014061</td>\n",
       "      <td>0.334132</td>\n",
       "      <td>0.999782</td>\n",
       "      <td>0.246748</td>\n",
       "      <td>0.128843</td>\n",
       "      <td>0.189489</td>\n",
       "      <td>0.693904</td>\n",
       "      <td>...</td>\n",
       "      <td>0.665440</td>\n",
       "      <td>0.823805</td>\n",
       "      <td>0.806350</td>\n",
       "      <td>1.636157</td>\n",
       "      <td>0.319102</td>\n",
       "      <td>1.631242</td>\n",
       "      <td>1.096510</td>\n",
       "      <td>0.247501</td>\n",
       "      <td>0.468823</td>\n",
       "      <td>1.144589</td>\n",
       "    </tr>\n",
       "    <tr>\n",
       "      <th>scream</th>\n",
       "      <td>1.687908</td>\n",
       "      <td>0.728034</td>\n",
       "      <td>1.137804</td>\n",
       "      <td>1.696552</td>\n",
       "      <td>0.108497</td>\n",
       "      <td>0.243827</td>\n",
       "      <td>0.631486</td>\n",
       "      <td>0.273321</td>\n",
       "      <td>0.621843</td>\n",
       "      <td>0.157070</td>\n",
       "      <td>...</td>\n",
       "      <td>0.949710</td>\n",
       "      <td>0.316270</td>\n",
       "      <td>0.447035</td>\n",
       "      <td>0.247235</td>\n",
       "      <td>0.149831</td>\n",
       "      <td>0.135350</td>\n",
       "      <td>0.363467</td>\n",
       "      <td>0.841205</td>\n",
       "      <td>0.746149</td>\n",
       "      <td>0.379276</td>\n",
       "    </tr>\n",
       "  </tbody>\n",
       "</table>\n",
       "<p>7 rows × 2048 columns</p>\n",
       "</div>"
      ],
      "text/plain": [
       "            0         1         2         3         4         5         6     \\\n",
       "img1    0.075019  0.377636  0.286328  0.150281  1.027439  1.492099  0.251387   \n",
       "img2    0.119926  0.078213  0.924031  0.804706  1.053693  0.397415  0.592862   \n",
       "img3    0.310494  0.491740  0.698567  0.068430  0.379037  0.305540  0.141801   \n",
       "img4    1.068086  0.311717  0.184385  0.105212  0.296597  0.302899  0.226477   \n",
       "messi   0.292575  0.038869  0.463703  1.148192  0.358206  1.220238  0.683077   \n",
       "person  0.346181  0.107922  1.039151  0.014061  0.334132  0.999782  0.246748   \n",
       "scream  1.687908  0.728034  1.137804  1.696552  0.108497  0.243827  0.631486   \n",
       "\n",
       "            7         8         9       ...         2038      2039      2040  \\\n",
       "img1    1.048187  0.917360  0.147455    ...     0.300168  0.390299  0.439247   \n",
       "img2    0.581773  2.219676  0.198823    ...     0.471248  1.345471  0.174861   \n",
       "img3    0.080034  0.395707  0.038466    ...     0.089840  0.276242  0.488761   \n",
       "img4    0.699843  1.045524  0.091345    ...     0.410153  0.497746  0.372124   \n",
       "messi   1.257175  0.566717  0.122433    ...     3.579520  0.078485  0.410738   \n",
       "person  0.128843  0.189489  0.693904    ...     0.665440  0.823805  0.806350   \n",
       "scream  0.273321  0.621843  0.157070    ...     0.949710  0.316270  0.447035   \n",
       "\n",
       "            2041      2042      2043      2044      2045      2046      2047  \n",
       "img1    0.007019  1.983532  0.404270  0.149851  0.169104  0.324171  0.479206  \n",
       "img2    0.153973  0.050629  0.318552  1.741183  1.029128  0.126983  0.321812  \n",
       "img3    0.940670  0.040950  0.350040  0.047583  0.270020  0.290705  0.123781  \n",
       "img4    0.426840  0.248001  1.506437  0.026825  0.127176  0.218100  0.102669  \n",
       "messi   0.271121  0.148141  0.055995  0.454379  0.661424  0.256392  0.143756  \n",
       "person  1.636157  0.319102  1.631242  1.096510  0.247501  0.468823  1.144589  \n",
       "scream  0.247235  0.149831  0.135350  0.363467  0.841205  0.746149  0.379276  \n",
       "\n",
       "[7 rows x 2048 columns]"
      ]
     },
     "execution_count": 145,
     "metadata": {},
     "output_type": "execute_result"
    }
   ],
   "source": [
    "feature_df.iloc[15:]"
   ]
  },
  {
   "cell_type": "code",
   "execution_count": 146,
   "metadata": {},
   "outputs": [],
   "source": [
    "csv_file = \"./test_imgs_features.csv\"\n",
    "feature_df.to_csv(csv_file)"
   ]
  },
  {
   "cell_type": "markdown",
   "metadata": {},
   "source": [
    "## Clustering and Plotting"
   ]
  },
  {
   "cell_type": "code",
   "execution_count": 154,
   "metadata": {},
   "outputs": [],
   "source": [
    "import sys\n",
    "sys.path.insert(0,'/home/pramod/work/unsupervised_learning/cluster/')\n",
    "import clusters"
   ]
  },
  {
   "cell_type": "code",
   "execution_count": 159,
   "metadata": {},
   "outputs": [],
   "source": [
    "cluster_feats = clusters.Cluster(plot=True,K=2)\n",
    "\n",
    "kmeans,kmeans_labels = cluster_feats.kmeans_sklearn(feature_df.iloc[:15].values)\n",
    "gmm, gmm_labels, gmm_prob = cluster_feats.gmm_sklearn(feature_df.iloc[:15].values)"
   ]
  },
  {
   "cell_type": "code",
   "execution_count": 160,
   "metadata": {},
   "outputs": [
    {
     "data": {
      "text/plain": [
       "array([0, 1, 0, 0, 0, 0, 0, 1, 0, 1, 1, 1, 0, 0, 0])"
      ]
     },
     "execution_count": 160,
     "metadata": {},
     "output_type": "execute_result"
    }
   ],
   "source": [
    "gmm_labels"
   ]
  },
  {
   "cell_type": "code",
   "execution_count": 161,
   "metadata": {},
   "outputs": [
    {
     "data": {
      "text/plain": [
       "array([1, 1, 1, 1, 1, 1, 1, 1, 1, 0, 1, 1, 1, 0, 1], dtype=int32)"
      ]
     },
     "execution_count": 161,
     "metadata": {},
     "output_type": "execute_result"
    }
   ],
   "source": [
    "kmeans_labels"
   ]
  },
  {
   "cell_type": "code",
   "execution_count": 162,
   "metadata": {},
   "outputs": [
    {
     "data": {
      "text/plain": [
       "array([[1., 0.],\n",
       "       [0., 1.],\n",
       "       [1., 0.],\n",
       "       [1., 0.],\n",
       "       [1., 0.],\n",
       "       [1., 0.],\n",
       "       [1., 0.],\n",
       "       [0., 1.],\n",
       "       [1., 0.],\n",
       "       [0., 1.],\n",
       "       [0., 1.],\n",
       "       [0., 1.],\n",
       "       [1., 0.],\n",
       "       [1., 0.],\n",
       "       [1., 0.]])"
      ]
     },
     "execution_count": 162,
     "metadata": {},
     "output_type": "execute_result"
    }
   ],
   "source": [
    "gmm_prob.round(3)"
   ]
  },
  {
   "cell_type": "code",
   "execution_count": 163,
   "metadata": {},
   "outputs": [
    {
     "name": "stdout",
     "output_type": "stream",
     "text": [
      "[[1. 0.]\n",
      " [1. 0.]\n",
      " [1. 0.]\n",
      " [0. 1.]\n",
      " [1. 0.]\n",
      " [1. 0.]\n",
      " [1. 0.]]\n"
     ]
    }
   ],
   "source": [
    "X_Test = feature_df.iloc[15:]\n",
    "probs = gmm.predict_proba(X_Test)\n",
    "print(probs.round(3))"
   ]
  },
  {
   "cell_type": "code",
   "execution_count": null,
   "metadata": {},
   "outputs": [],
   "source": []
  }
 ],
 "metadata": {
  "kernelspec": {
   "display_name": "Python 3",
   "language": "python",
   "name": "python3"
  },
  "language_info": {
   "codemirror_mode": {
    "name": "ipython",
    "version": 3
   },
   "file_extension": ".py",
   "mimetype": "text/x-python",
   "name": "python",
   "nbconvert_exporter": "python",
   "pygments_lexer": "ipython3",
   "version": "3.5.5"
  }
 },
 "nbformat": 4,
 "nbformat_minor": 2
}
